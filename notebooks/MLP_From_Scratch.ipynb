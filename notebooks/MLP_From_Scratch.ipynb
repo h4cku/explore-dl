{
 "cells": [
  {
   "cell_type": "code",
   "execution_count": 1,
   "id": "7007f7a8-e23d-4bf8-bc21-be6f9e762f08",
   "metadata": {},
   "outputs": [],
   "source": [
    "import numpy as np\n",
    "import matplotlib.pyplot as plt\n",
    "import pandas as pd"
   ]
  },
  {
   "cell_type": "code",
   "execution_count": 2,
   "id": "0ab094e9-ed84-4121-801b-3aa7ba722ed2",
   "metadata": {},
   "outputs": [],
   "source": [
    "train_data = pd.read_csv(\"/root/data/mnist_train_small.csv\")\n",
    "train_data=train_data.to_numpy()\n",
    "x_train = train_data[:,1:]\n",
    "y_train = train_data[:,0]"
   ]
  },
  {
   "cell_type": "code",
   "execution_count": 3,
   "id": "138bebe4-a07a-43b9-a131-01f89834f459",
   "metadata": {},
   "outputs": [],
   "source": [
    "test_data = pd.read_csv(\"/root/data/mnist_test.csv\")\n",
    "test_data=test_data.to_numpy()\n",
    "x_test = test_data[:,1:]\n",
    "y_test = test_data[:,0]"
   ]
  },
  {
   "cell_type": "code",
   "execution_count": 4,
   "id": "783cada5-6cb8-4e90-91aa-1e0bc11f3235",
   "metadata": {},
   "outputs": [
    {
     "name": "stdout",
     "output_type": "stream",
     "text": [
      "7\n"
     ]
    },
    {
     "data": {
      "text/plain": [
       "<matplotlib.image.AxesImage at 0x7f07a35b73d0>"
      ]
     },
     "execution_count": 4,
     "metadata": {},
     "output_type": "execute_result"
    },
    {
     "data": {
      "image/png": "[encoded data removed]",
      "text/plain": [
       "<Figure size 640x480 with 1 Axes>"
      ]
     },
     "metadata": {},
     "output_type": "display_data"
    }
   ],
   "source": [
    "print(y_train[10])\n",
    "plt.imshow(x_train[10].reshape((28,28)))"
   ]
  },
  {
   "cell_type": "code",
   "execution_count": 5,
   "id": "3d95ba99-f1ba-488d-8f6b-73a5a16221b9",
   "metadata": {},
   "outputs": [],
   "source": [
    "sigmoid = lambda x: 1 / (1 + np.exp(-x))"
   ]
  },
  {
   "cell_type": "code",
   "execution_count": 6,
   "id": "c370e692-39a2-4c6b-924d-bd1ccd5bdc66",
   "metadata": {},
   "outputs": [
    {
     "data": {
      "text/plain": [
       "[<matplotlib.lines.Line2D at 0x7f07a3675f90>]"
      ]
     },
     "execution_count": 6,
     "metadata": {},
     "output_type": "execute_result"
    },
    {
     "data": {
      "image/png": "[encoded data removed]",
      "text/plain": [
       "<Figure size 640x480 with 1 Axes>"
      ]
     },
     "metadata": {},
     "output_type": "display_data"
    }
   ],
   "source": [
    "t = np.linspace(-5,5,100)\n",
    "plt.plot(t,sigmoid(t))"
   ]
  },
  {
   "cell_type": "code",
   "execution_count": 7,
   "id": "01a12135-411e-462a-a305-97483343fa28",
   "metadata": {},
   "outputs": [],
   "source": [
    "def init_params(n_inp,n_hidden,n_out):\n",
    "    W1 = np.random.random((n_inp,n_hidden)) / (n_hidden)\n",
    "    b1 = np.random.random((n_hidden,))  / (n_hidden)\n",
    "    W2 = np.random.random((n_hidden,n_out))  / (n_out)\n",
    "    b2 = np.random.random((n_out,)) / (n_out)\n",
    "    return (W1,b1,W2,b2)\n",
    "\n",
    "def forward_and_backward(params,x,y,loss_fn,backward=True):\n",
    "    W1,b1,W2,b2 = params\n",
    "    # forward\n",
    "    o1 = x @ W1 + b1\n",
    "    o2 = sigmoid(o1)\n",
    "    o3 = o2 @ W2 + b2\n",
    "    o4 = sigmoid(o3)\n",
    "    # backward\n",
    "    if backward:\n",
    "        loss,dLdo4 = loss_fn(o4,y)\n",
    "        dLdo3 = dLdo4 * o4 * (1 - o4)\n",
    "        dLdW2 = o2.T @ dLdo3\n",
    "        dLdb2 = np.sum(dLdo3,axis=0)\n",
    "        dLdo2 = dLdo3 @ W2.T\n",
    "        dLdo1 = dLdo2 * o2 * (1 - o2)\n",
    "        dLdW1 = x.T @ dLdo1\n",
    "        dLdb1 = np.sum(dLdo1,axis=0)\n",
    "        return o4, (dLdW1,dLdb1,dLdW2,dLdb2), loss\n",
    "    return o4, None, None\n",
    "\n",
    "def update_params(params,dparams,lr=0.1):\n",
    "    new_params = []\n",
    "    for p,dp in zip(params,dparams):\n",
    "        new_params.append(p - lr*dp)\n",
    "    return tuple(new_params)"
   ]
  },
  {
   "cell_type": "code",
   "execution_count": 8,
   "id": "bdbe1a89-3cf0-4d81-b63f-6ac35ca38a2d",
   "metadata": {},
   "outputs": [],
   "source": [
    "def mse_loss(o,y,one_hot_encoding=True):\n",
    "    if one_hot_encoding:\n",
    "        y_ = np.zeros(o.shape)\n",
    "        y_[np.arange(len(y)),y] = 1\n",
    "    else:\n",
    "        y_ = y\n",
    "    dLdo = (o - y_) / (len(o[0]))\n",
    "    loss = np.mean(dLdo ** 2 / 2)\n",
    "    return loss, dLdo"
   ]
  },
  {
   "cell_type": "code",
   "execution_count": 9,
   "id": "dded25e3-45ba-4f8d-ae03-b9038e8aa4c5",
   "metadata": {},
   "outputs": [],
   "source": [
    "params = init_params(28*28,256,10)"
   ]
  },
  {
   "cell_type": "code",
   "execution_count": 10,
   "id": "2a274534-3b85-4732-98e4-1a0e11ebc85d",
   "metadata": {},
   "outputs": [
    {
     "name": "stdout",
     "output_type": "stream",
     "text": [
      "0.22864633047561064\n",
      "0.06828661867252174\n",
      "0.04599649732040538\n",
      "0.03757210087889321\n",
      "0.03337155587819137\n"
     ]
    }
   ],
   "source": [
    "N = len(x_train)\n",
    "epochs = 5\n",
    "batch_size = 64\n",
    "for epoch in range(epochs):\n",
    "    tot_loss = 0\n",
    "    for i in range(N // batch_size + 1):\n",
    "        x_ = x_train[i*batch_size:(i+1)*batch_size] / 255\n",
    "        y_ = y_train[i*batch_size:(i+1)*batch_size]\n",
    "        o,dparams,loss = forward_and_backward(params,x_,y_,mse_loss)\n",
    "        tot_loss += loss\n",
    "        params = update_params(params,dparams,lr=0.1)\n",
    "    print(tot_loss)"
   ]
  },
  {
   "cell_type": "code",
   "execution_count": 11,
   "id": "2bf28502-a396-4da9-a4a6-34fb8f6ead2f",
   "metadata": {},
   "outputs": [],
   "source": [
    "o,_,_ = forward_and_backward(params,x_test[:10]/ (255),None,None,backward=False)"
   ]
  },
  {
   "cell_type": "code",
   "execution_count": 12,
   "id": "100ee77e-c9d4-4a9b-a96f-bb0dc6e1a72c",
   "metadata": {},
   "outputs": [
    {
     "data": {
      "text/plain": [
       "array([2, 1, 0, 4, 1, 4, 9, 6, 9, 0])"
      ]
     },
     "execution_count": 12,
     "metadata": {},
     "output_type": "execute_result"
    }
   ],
   "source": [
    "np.argmax(o,axis=1)"
   ]
  },
  {
   "cell_type": "code",
   "execution_count": 13,
   "id": "6353a444-849f-4df2-97b5-564d2e7e2ffa",
   "metadata": {},
   "outputs": [
    {
     "data": {
      "text/plain": [
       "array([2, 1, 0, 4, 1, 4, 9, 5, 9, 0])"
      ]
     },
     "execution_count": 13,
     "metadata": {},
     "output_type": "execute_result"
    }
   ],
   "source": [
    "y_test[:10]"
   ]
  }
 ],
 "metadata": {
  "kernelspec": {
   "display_name": "Python 3 (ipykernel)",
   "language": "python",
   "name": "python3"
  },
  "language_info": {
   "codemirror_mode": {
    "name": "ipython",
    "version": 3
   },
   "file_extension": ".py",
   "mimetype": "text/x-python",
   "name": "python",
   "nbconvert_exporter": "python",
   "pygments_lexer": "ipython3",
   "version": "3.10.11"
  }
 },
 "nbformat": 4,
 "nbformat_minor": 5
}

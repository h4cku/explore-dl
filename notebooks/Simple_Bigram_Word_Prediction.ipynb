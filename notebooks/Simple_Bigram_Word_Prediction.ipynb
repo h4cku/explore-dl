{
 "cells": [
  {
   "cell_type": "code",
   "execution_count": 1,
   "id": "c1fe3c70-1d0c-4ba0-afe3-377a600653be",
   "metadata": {},
   "outputs": [],
   "source": [
    "import numpy as np\n",
    "import matplotlib.pyplot as plt\n",
    "import re\n",
    "import random"
   ]
  },
  {
   "cell_type": "code",
   "execution_count": 2,
   "id": "b14c2f13-a2ba-4fb0-84bf-9a712cf0a09b",
   "metadata": {},
   "outputs": [],
   "source": [
    "# Loading the text\n",
    "with open(\"../../../../DeepLearning/Datasets/Friends/Friends_Transcript.txt\",\"r\") as f:\n",
    "    lines = f.readlines()"
   ]
  },
  {
   "cell_type": "code",
   "execution_count": 3,
   "id": "e1b38772-4135-4d46-aa0b-6ed671726b66",
   "metadata": {},
   "outputs": [],
   "source": [
    "def get_dialogs(lines,char_name):\n",
    "    return [d.split(\":\")[1].strip() for d in filter(lambda e: f\"{char_name}:\" in e,lines)]"
   ]
  },
  {
   "cell_type": "code",
   "execution_count": 118,
   "id": "62927420-8fcb-4415-90d3-e1efee8c3bc1",
   "metadata": {},
   "outputs": [],
   "source": [
    "sentences = get_dialogs(lines,\"Chandler\")"
   ]
  },
  {
   "cell_type": "code",
   "execution_count": 119,
   "id": "c08ac4ff-0a8f-4e5d-8259-eeead7c072da",
   "metadata": {},
   "outputs": [
    {
     "name": "stdout",
     "output_type": "stream",
     "text": [
      "['Sounds', 'like', 'a', 'date', 'to', 'me', '.']\n"
     ]
    }
   ],
   "source": [
    "print(re.findall(r\"[\\w']+|[.,!?;\\(\\)]\", sentences[1]))"
   ]
  },
  {
   "cell_type": "code",
   "execution_count": 120,
   "id": "97b5f7c2-d670-4108-a705-c2fd539aeb7f",
   "metadata": {},
   "outputs": [],
   "source": [
    "vocab = {}\n",
    "tokenized_sentences = []\n",
    "vocab_size = 0\n",
    "for s in sentences:\n",
    "    tmp = []\n",
    "    for w in re.findall(r\"[\\w']+|[.,!?;\\(\\)]\", s):\n",
    "        if w not in vocab:\n",
    "            vocab[w] = vocab_size\n",
    "            vocab_size += 1\n",
    "        tmp.append(vocab[w])\n",
    "    tokenized_sentences.append(tmp)\n",
    "decoder = {v:k for k,v in vocab.items()}"
   ]
  },
  {
   "cell_type": "code",
   "execution_count": 121,
   "id": "57498541-cf3d-48f7-ad49-c0419977777e",
   "metadata": {},
   "outputs": [
    {
     "name": "stderr",
     "output_type": "stream",
     "text": [
      "C:\\Users\\munoz\\AppData\\Local\\Temp\\ipykernel_2836\\4281790681.py:7: RuntimeWarning: invalid value encountered in divide\n",
      "  prob = prob / np.sum(prob,axis=1).reshape((-1,1))\n"
     ]
    }
   ],
   "source": [
    "prob = np.zeros((vocab_size,vocab_size))\n",
    "for s in tokenized_sentences:\n",
    "    if len(s) < 2:\n",
    "        continue\n",
    "    for x,y in zip(s[:-1],s[1:]):\n",
    "        prob[x][y] += 1\n",
    "prob = prob / np.sum(prob,axis=1).reshape((-1,1))"
   ]
  },
  {
   "cell_type": "code",
   "execution_count": 122,
   "id": "e48b611e-a4ec-4ff8-9624-c14a083f042c",
   "metadata": {},
   "outputs": [],
   "source": [
    "def get_next_token(probs, temperature):\n",
    "    sort_ind = np.argsort(probs)[-1::-1]\n",
    "    n = len(np.where(np.cumsum(probs[sort_ind]) <= temperature)[0])\n",
    "    if n > 0:\n",
    "        return random.choice(sort_ind[:n])\n",
    "    else:\n",
    "        return random.choice(np.argsort(probs)[-1:-2:-1])"
   ]
  },
  {
   "cell_type": "code",
   "execution_count": 151,
   "id": "a458846b-aad6-4ca2-9857-a319fbf25caf",
   "metadata": {},
   "outputs": [
    {
     "name": "stdout",
     "output_type": "stream",
     "text": [
      "Could you later today so upset , it with Casey . Thats the apartment stud . Im your eyes ) Nothing\n"
     ]
    }
   ],
   "source": [
    "max_tokens = 20\n",
    "prompt = \"Could\"\n",
    "tokens = [vocab[i] for i in re.findall(r\"[\\w']+|[.,!?;\\(\\)]\", prompt)]\n",
    "for i in range(max_tokens):\n",
    "    prob_ = prob[tokens[-1]]\n",
    "    next_token = get_next_token(prob_,0.9)\n",
    "    tokens.append(next_token)\n",
    "print(\" \".join([decoder[t] for t in tokens]))"
   ]
  }
 ],
 "metadata": {
  "kernelspec": {
   "display_name": "Python 3 (ipykernel)",
   "language": "python",
   "name": "python3"
  },
  "language_info": {
   "codemirror_mode": {
    "name": "ipython",
    "version": 3
   },
   "file_extension": ".py",
   "mimetype": "text/x-python",
   "name": "python",
   "nbconvert_exporter": "python",
   "pygments_lexer": "ipython3",
   "version": "3.10.11"
  }
 },
 "nbformat": 4,
 "nbformat_minor": 5
}

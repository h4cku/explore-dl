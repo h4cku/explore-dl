{
 "cells": [
  {
   "cell_type": "code",
   "execution_count": 1,
   "id": "92130245-2938-43dd-81b0-d8e3659f34aa",
   "metadata": {},
   "outputs": [],
   "source": [
    "import torch.nn as nn\n",
    "import torch\n",
    "import numpy as np\n",
    "import matplotlib.pyplot as plt\n",
    "import pandas as pd"
   ]
  },
  {
   "cell_type": "code",
   "execution_count": 2,
   "id": "fb6c660e-e30c-44a0-9f53-519ab8d9f180",
   "metadata": {},
   "outputs": [],
   "source": [
    "# Loading the raw data (pixel data)\n",
    "raw_train_data = pd.read_csv(\"../../../../DeepLearning/Datasets/mnist_train_small.csv\").to_numpy()\n",
    "raw_test_data = pd.read_csv(\"../../../../DeepLearning/Datasets/mnist_train_small.csv\").to_numpy()"
   ]
  },
  {
   "cell_type": "code",
   "execution_count": 3,
   "id": "2d0a1132-6740-41ce-8a2c-9cbd1cf364cd",
   "metadata": {},
   "outputs": [],
   "source": [
    "x_train = raw_train_data[:,1:].reshape((-1,1,28,28))/255\n",
    "y_train = raw_train_data[:,0]\n",
    "\n",
    "x_test = raw_test_data[:,1:].reshape((-1,1,28,28))/255\n",
    "y_test = raw_test_data[:,0]"
   ]
  },
  {
   "cell_type": "code",
   "execution_count": 8,
   "id": "cfe7a3af-aaeb-4635-8956-318008149c95",
   "metadata": {},
   "outputs": [],
   "source": [
    "# Creating our model\n",
    "model = nn.Sequential(\n",
    "    nn.Conv2d(1,3,kernel_size=2,stride=2), # 1,28,28 -> 3,13,13\n",
    "    nn.ReLU(),\n",
    "    nn.Conv2d(3,16,kernel_size=3,stride=2), # 3,13,13 -> 16,6,6\n",
    "    nn.ReLU(),\n",
    "    nn.Conv2d(16,32,kernel_size=2,stride=2), # 16,6,6 -> 32,3,3\n",
    "    nn.ReLU(),\n",
    "    nn.Flatten(start_dim=1),\n",
    "    nn.Linear(32*3*3,10)\n",
    ")\n",
    "\n",
    "# Defining our loss function\n",
    "loss_fn = nn.CrossEntropyLoss()\n",
    "\n",
    "# Defining our optimizer\n",
    "optim = torch.optim.SGD(model.parameters(),lr=0.1)"
   ]
  },
  {
   "cell_type": "code",
   "execution_count": 9,
   "id": "b7347fcd-13a7-4e24-9596-c5e8b8a99766",
   "metadata": {},
   "outputs": [
    {
     "name": "stdout",
     "output_type": "stream",
     "text": [
      "507.8599236011505\n",
      "101.83811504393816\n",
      "73.92543233186007\n",
      "59.344196416437626\n",
      "49.68264667317271\n"
     ]
    }
   ],
   "source": [
    "N = len(x_train)\n",
    "epochs = 5\n",
    "batch_size = 64\n",
    "# Start training for #epochs\n",
    "for epoch in range(epochs):\n",
    "    tot_loss = 0\n",
    "    # Traing by batches\n",
    "    for i in range(N // batch_size + 1):\n",
    "        # Setting all grads (of all parameters) to zero\n",
    "        optim.zero_grad()\n",
    "        # Converting our inputs and outputs to tensor\n",
    "        x_ = torch.tensor(x_train[i*batch_size:(i+1)*batch_size]).float()\n",
    "        y_ = torch.tensor(y_train[i*batch_size:(i+1)*batch_size]).long()\n",
    "        # Forward\n",
    "        o = model(x_)\n",
    "        # Calculate loss\n",
    "        loss = loss_fn(o,y_)\n",
    "        # Backward\n",
    "        loss.backward()\n",
    "        # Accumulate loss\n",
    "        tot_loss += loss.item()\n",
    "        # Update parameters using the calculated gradients\n",
    "        optim.step()\n",
    "    print(tot_loss)"
   ]
  },
  {
   "cell_type": "code",
   "execution_count": 10,
   "id": "d33707f6-1d93-4e26-8f55-3d983568ad0a",
   "metadata": {},
   "outputs": [],
   "source": [
    "o = model(torch.tensor(x_test[:20]).float())"
   ]
  },
  {
   "cell_type": "code",
   "execution_count": 11,
   "id": "f91b3cdd-34a7-4294-bd54-5ff9a2cf5d48",
   "metadata": {},
   "outputs": [
    {
     "data": {
      "text/plain": [
       "tensor([5, 7, 9, 5, 2, 0, 6, 5, 5, 2, 7, 7, 6, 8, 9, 3, 5, 7, 6, 9])"
      ]
     },
     "execution_count": 11,
     "metadata": {},
     "output_type": "execute_result"
    }
   ],
   "source": [
    "torch.argmax(o,axis=1)"
   ]
  },
  {
   "cell_type": "code",
   "execution_count": 12,
   "id": "68baeef4-22bf-420c-ac0f-b9b5330ee566",
   "metadata": {},
   "outputs": [
    {
     "data": {
      "text/plain": [
       "array([5, 7, 9, 5, 2, 0, 6, 5, 5, 2, 7, 7, 6, 8, 9, 3, 5, 7, 6, 9],\n",
       "      dtype=int64)"
      ]
     },
     "execution_count": 12,
     "metadata": {},
     "output_type": "execute_result"
    }
   ],
   "source": [
    "y_test[:20]"
   ]
  }
 ],
 "metadata": {
  "kernelspec": {
   "display_name": "Python 3 (ipykernel)",
   "language": "python",
   "name": "python3"
  },
  "language_info": {
   "codemirror_mode": {
    "name": "ipython",
    "version": 3
   },
   "file_extension": ".py",
   "mimetype": "text/x-python",
   "name": "python",
   "nbconvert_exporter": "python",
   "pygments_lexer": "ipython3",
   "version": "3.10.11"
  }
 },
 "nbformat": 4,
 "nbformat_minor": 5
}

{
 "cells": [
  {
   "cell_type": "code",
   "execution_count": 1,
   "id": "5ad3e12f-0cac-4d41-a4b9-e9354d92ee23",
   "metadata": {},
   "outputs": [],
   "source": [
    "import jax.numpy as np\n",
    "from jax import grad\n",
    "import pandas as pd\n",
    "import matplotlib.pyplot as plt\n",
    "import jax"
   ]
  },
  {
   "cell_type": "code",
   "execution_count": 7,
   "id": "fe914b71-4e08-40d7-860d-f2d8dac88f44",
   "metadata": {},
   "outputs": [],
   "source": [
    "train_data = pd.read_csv(\"../../../../DeepLearning/Datasets/mnist_train_small.csv\")\n",
    "train_data=train_data.to_numpy()\n",
    "x_train = train_data[:,1:] / 255\n",
    "y_train = train_data[:,0]"
   ]
  },
  {
   "cell_type": "code",
   "execution_count": 8,
   "id": "5ab45afa-cf4e-45d2-bb95-3e8834ed07a8",
   "metadata": {},
   "outputs": [],
   "source": [
    "test_data = pd.read_csv(\"../../../../DeepLearning/Datasets/mnist_test.csv\")\n",
    "test_data=test_data.to_numpy()\n",
    "x_test = test_data[:,1:] / 255\n",
    "y_test = test_data[:,0]"
   ]
  },
  {
   "cell_type": "code",
   "execution_count": 9,
   "id": "65e992ee-eeca-415c-ac66-af2ed0f97ecc",
   "metadata": {},
   "outputs": [
    {
     "name": "stdout",
     "output_type": "stream",
     "text": [
      "7\n"
     ]
    },
    {
     "data": {
      "text/plain": [
       "<matplotlib.image.AxesImage at 0x1c9829e8040>"
      ]
     },
     "execution_count": 9,
     "metadata": {},
     "output_type": "execute_result"
    },
    {
     "data": {
      "image/png": "[encoded data removed]",
      "text/plain": [
       "<Figure size 640x480 with 1 Axes>"
      ]
     },
     "metadata": {},
     "output_type": "display_data"
    }
   ],
   "source": [
    "print(y_train[10])\n",
    "plt.imshow(x_train[10].reshape((28,28)))"
   ]
  },
  {
   "cell_type": "code",
   "execution_count": 10,
   "id": "49b1331e-11ed-454b-8370-3f8676906801",
   "metadata": {},
   "outputs": [],
   "source": [
    "sigmoid = lambda x: 1 / (1 + np.exp(-x))\n",
    "tanh = lambda x: (1 - np.exp(-x)) / (1 + np.exp(-x))\n",
    "\n",
    "def softmax(x):\n",
    "    expx = np.exp(x)\n",
    "    return expx / np.sum(expx,axis=1).reshape((-1,1))"
   ]
  },
  {
   "cell_type": "code",
   "execution_count": 36,
   "id": "9f08c215-ed0a-490d-9f60-e74ac990f42f",
   "metadata": {},
   "outputs": [],
   "source": [
    "def init_params(n_inp,n_hidden,n_out):\n",
    "    generate_random = lambda shape: jax.random.normal(jax.random.PRNGKey(0),shape)\n",
    "    W1 = generate_random((n_inp,n_hidden)) / (n_hidden)\n",
    "    b1 = generate_random((n_hidden,))  / (n_hidden)\n",
    "    W2 = generate_random((n_hidden,n_out))  / (n_out)\n",
    "    b2 = generate_random((n_out,)) / (n_out)\n",
    "    return (W1,b1,W2,b2)\n",
    "\n",
    "def forward(params,x):\n",
    "    W1,b1,W2,b2 = params\n",
    "    o = x @ W1 + b1\n",
    "    o = sigmoid(o)\n",
    "    o = o @ W2 + b2\n",
    "    # o = sigmoid(o)\n",
    "    return o\n",
    "\n",
    "def update_params(params,dparams,lr=0.1):\n",
    "    new_params = []\n",
    "    for p,dp in zip(params,dparams):\n",
    "        new_params.append(p - lr*dp)\n",
    "    return tuple(new_params)"
   ]
  },
  {
   "cell_type": "code",
   "execution_count": 37,
   "id": "a95e75f2-f08c-4737-95b6-e8c4dd47a28b",
   "metadata": {},
   "outputs": [],
   "source": [
    "def mse_loss(params,x,y):\n",
    "    o = forward(params, x)\n",
    "    y_ = jax.nn.one_hot(y,10)\n",
    "    dLdo = (o - y_)\n",
    "    loss = np.mean(dLdo ** 2 / 2)\n",
    "    return loss\n",
    "\n",
    "def ce_loss(params,x,y):\n",
    "    o = forward(params, x)\n",
    "    y_ = jax.nn.one_hot(y,10)\n",
    "    loss = np.mean(- y_ * np.log(softmax(o)))\n",
    "    return loss"
   ]
  },
  {
   "cell_type": "code",
   "execution_count": 38,
   "id": "d99b7851-1413-45cb-81c0-493288f5c5df",
   "metadata": {},
   "outputs": [],
   "source": [
    "grad_loss = jax.jit(jax.value_and_grad(ce_loss))"
   ]
  },
  {
   "cell_type": "code",
   "execution_count": 39,
   "id": "381ef97b-fd46-41c2-9c95-7918ea666a75",
   "metadata": {},
   "outputs": [],
   "source": [
    "params = init_params(28*28,256,10)"
   ]
  },
  {
   "cell_type": "code",
   "execution_count": 40,
   "id": "ae80c625-efbf-4f15-bb08-396011ae9ca1",
   "metadata": {},
   "outputs": [
    {
     "name": "stdout",
     "output_type": "stream",
     "text": [
      "64.85497\n",
      "51.728596\n",
      "41.58187\n",
      "34.25469\n",
      "29.180414\n",
      "25.635908\n",
      "23.081224\n",
      "21.173086\n",
      "19.700272\n",
      "18.531034\n"
     ]
    }
   ],
   "source": [
    "N = len(x_train)\n",
    "epochs = 10\n",
    "batch_size = 64\n",
    "for epoch in range(epochs):\n",
    "    tot_loss = 0\n",
    "    for i in range(N // batch_size + 1):\n",
    "        x_ = x_train[i*batch_size:(i+1)*batch_size] \n",
    "        y_ = y_train[i*batch_size:(i+1)*batch_size]\n",
    "        loss, dparams = grad_loss(params,x_,y_)\n",
    "        tot_loss += loss\n",
    "        params = update_params(params,dparams,lr=0.1)\n",
    "    print(tot_loss)"
   ]
  },
  {
   "cell_type": "code",
   "execution_count": 41,
   "id": "22403d84-8f9d-4ffe-8bde-0bc87cb9ab5e",
   "metadata": {},
   "outputs": [],
   "source": [
    "o = forward(params,x_test[:10])"
   ]
  },
  {
   "cell_type": "code",
   "execution_count": 42,
   "id": "96fb72f6-2514-447e-9eb5-2419ec6371b1",
   "metadata": {},
   "outputs": [
    {
     "data": {
      "text/plain": [
       "Array([2, 1, 0, 4, 1, 4, 9, 6, 9, 0], dtype=int32)"
      ]
     },
     "execution_count": 42,
     "metadata": {},
     "output_type": "execute_result"
    }
   ],
   "source": [
    "np.argmax(o,axis=1)"
   ]
  },
  {
   "cell_type": "code",
   "execution_count": 43,
   "id": "bfd326d5-52cb-4a09-9ab9-78e8fe5d087a",
   "metadata": {},
   "outputs": [
    {
     "data": {
      "text/plain": [
       "array([2, 1, 0, 4, 1, 4, 9, 5, 9, 0], dtype=int64)"
      ]
     },
     "execution_count": 43,
     "metadata": {},
     "output_type": "execute_result"
    }
   ],
   "source": [
    "y_test[:10]"
   ]
  }
 ],
 "metadata": {
  "kernelspec": {
   "display_name": "Python 3 (ipykernel)",
   "language": "python",
   "name": "python3"
  },
  "language_info": {
   "codemirror_mode": {
    "name": "ipython",
    "version": 3
   },
   "file_extension": ".py",
   "mimetype": "text/x-python",
   "name": "python",
   "nbconvert_exporter": "python",
   "pygments_lexer": "ipython3",
   "version": "3.10.11"
  }
 },
 "nbformat": 4,
 "nbformat_minor": 5
}

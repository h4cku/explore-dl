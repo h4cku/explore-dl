{
 "cells": [
  {
   "cell_type": "code",
   "execution_count": 12,
   "id": "cd573385-dce0-4f64-b8d0-02bc1cb3509b",
   "metadata": {},
   "outputs": [],
   "source": [
    "import torch.nn as nn\n",
    "import torch\n",
    "import numpy as np\n",
    "import matplotlib.pyplot as plt\n",
    "import pandas as pd"
   ]
  },
  {
   "cell_type": "code",
   "execution_count": 20,
   "id": "ea584168-d5c8-4421-b64d-d962dec72b6d",
   "metadata": {},
   "outputs": [],
   "source": [
    "# Loading the raw data (pixel data)\n",
    "raw_train_data = pd.read_csv(\"../../../../DeepLearning/Datasets/mnist_train_small.csv\").to_numpy()\n",
    "raw_test_data = pd.read_csv(\"../../../../DeepLearning/Datasets/mnist_train_small.csv\").to_numpy()"
   ]
  },
  {
   "cell_type": "code",
   "execution_count": 11,
   "id": "16aaa1a2-1006-4512-bd2b-1ad1397b846d",
   "metadata": {},
   "outputs": [],
   "source": [
    "x_train = raw_train_data[:,1:]/255\n",
    "y_train = raw_train_data[:,0]\n",
    "\n",
    "x_test = raw_test_data[:,1:]/255\n",
    "y_test = raw_test_data[:,0]"
   ]
  },
  {
   "cell_type": "code",
   "execution_count": 13,
   "id": "dc766739-128a-40c7-93e1-9c2e7632736e",
   "metadata": {},
   "outputs": [],
   "source": [
    "# Creating our model\n",
    "model = nn.Sequential(\n",
    "    nn.Linear(784,128),\n",
    "    nn.Sigmoid(),\n",
    "    nn.Linear(128,10)\n",
    ")\n",
    "\n",
    "# Defining our loss function\n",
    "loss_fn = nn.CrossEntropyLoss()\n",
    "\n",
    "# Defining our optimizer\n",
    "optim = torch.optim.SGD(model.parameters(),lr=0.1)"
   ]
  },
  {
   "cell_type": "code",
   "execution_count": 16,
   "id": "7ef8f635-720c-42b4-a3e8-c82c8e448115",
   "metadata": {},
   "outputs": [
    {
     "name": "stdout",
     "output_type": "stream",
     "text": [
      "104.61067382991314\n",
      "99.38274655491114\n",
      "95.31349711120129\n",
      "91.95174717158079\n",
      "89.04742225259542\n"
     ]
    }
   ],
   "source": [
    "N = len(x_train)\n",
    "epochs = 5\n",
    "batch_size = 64\n",
    "# Start training for #epochs\n",
    "for epoch in range(epochs):\n",
    "    tot_loss = 0\n",
    "    # Traing by batches\n",
    "    for i in range(N // batch_size + 1):\n",
    "        # Setting all grads (of all parameters) to zero\n",
    "        optim.zero_grad()\n",
    "        # Converting our inputs and outputs to tensor\n",
    "        x_ = torch.tensor(x_train[i*batch_size:(i+1)*batch_size]).float()\n",
    "        y_ = torch.tensor(y_train[i*batch_size:(i+1)*batch_size]).long()\n",
    "        # Forward\n",
    "        o = model(x_)\n",
    "        # Calculate loss\n",
    "        loss = loss_fn(o,y_)\n",
    "        # Backward\n",
    "        loss.backward()\n",
    "        # Accumulate loss\n",
    "        tot_loss += loss.item()\n",
    "        # Update parameters using the calculated gradients\n",
    "        optim.step()\n",
    "    print(tot_loss)"
   ]
  },
  {
   "cell_type": "code",
   "execution_count": 17,
   "id": "d0172af9-6fec-4ee8-81ae-c72c57112e59",
   "metadata": {},
   "outputs": [],
   "source": [
    "o = model(torch.tensor(x_test[:20]).float())"
   ]
  },
  {
   "cell_type": "code",
   "execution_count": 18,
   "id": "70427e41-5129-4834-bb12-e213f2e5e42c",
   "metadata": {},
   "outputs": [
    {
     "data": {
      "text/plain": [
       "tensor([5, 7, 9, 5, 2, 0, 6, 5, 5, 2, 7, 7, 6, 9, 9, 3, 5, 7, 6, 9])"
      ]
     },
     "execution_count": 18,
     "metadata": {},
     "output_type": "execute_result"
    }
   ],
   "source": [
    "torch.argmax(o,axis=1)"
   ]
  },
  {
   "cell_type": "code",
   "execution_count": 19,
   "id": "6d0b05b7-793c-427c-bc7a-af88a8ed42b3",
   "metadata": {},
   "outputs": [
    {
     "data": {
      "text/plain": [
       "array([5, 7, 9, 5, 2, 0, 6, 5, 5, 2, 7, 7, 6, 8, 9, 3, 5, 7, 6, 9],\n",
       "      dtype=int64)"
      ]
     },
     "execution_count": 19,
     "metadata": {},
     "output_type": "execute_result"
    }
   ],
   "source": [
    "y_test[:20]"
   ]
  }
 ],
 "metadata": {
  "kernelspec": {
   "display_name": "Python 3 (ipykernel)",
   "language": "python",
   "name": "python3"
  },
  "language_info": {
   "codemirror_mode": {
    "name": "ipython",
    "version": 3
   },
   "file_extension": ".py",
   "mimetype": "text/x-python",
   "name": "python",
   "nbconvert_exporter": "python",
   "pygments_lexer": "ipython3",
   "version": "3.10.11"
  }
 },
 "nbformat": 4,
 "nbformat_minor": 5
}

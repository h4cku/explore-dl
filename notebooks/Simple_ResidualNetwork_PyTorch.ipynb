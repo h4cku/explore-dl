{
 "cells": [
  {
   "cell_type": "code",
   "execution_count": 1,
   "id": "95d6b802-e199-4aa3-9965-4e05e217f4af",
   "metadata": {},
   "outputs": [],
   "source": [
    "import torch.nn as nn\n",
    "import torch\n",
    "import numpy as np\n",
    "import matplotlib.pyplot as plt\n",
    "import pandas as pd"
   ]
  },
  {
   "cell_type": "code",
   "execution_count": 5,
   "id": "c4b29e1b-a3e0-4577-80b8-2aeb5638bde3",
   "metadata": {},
   "outputs": [],
   "source": [
    "# Loading the raw data (pixel data)\n",
    "raw_train_data = pd.read_csv(\"../../../../DeepLearning/Datasets/mnist_train_small.csv\").to_numpy()\n",
    "raw_test_data = pd.read_csv(\"../../../../DeepLearning/Datasets/mnist_train_small.csv\").to_numpy()"
   ]
  },
  {
   "cell_type": "code",
   "execution_count": 6,
   "id": "2b661ffe-e115-43e3-8dda-e5ede48c76ae",
   "metadata": {},
   "outputs": [],
   "source": [
    "x_train = raw_train_data[:,1:].reshape((-1,1,28,28))/255\n",
    "y_train = raw_train_data[:,0]\n",
    "\n",
    "x_test = raw_test_data[:,1:].reshape((-1,1,28,28))/255\n",
    "y_test = raw_test_data[:,0]"
   ]
  },
  {
   "cell_type": "code",
   "execution_count": 14,
   "id": "9622df40-bbf9-421e-9916-79ff16f29ad4",
   "metadata": {},
   "outputs": [],
   "source": [
    "class ResidualBlock(nn.Sequential):\n",
    "    def __init__(self,in_features, out_features):\n",
    "        super(nn.Sequential,self).__init__()\n",
    "        self.direct = nn.Sequential(\n",
    "            nn.Conv2d(in_features,out_features,kernel_size=3,padding=1),\n",
    "            nn.BatchNorm2d(out_features),\n",
    "            nn.ReLU(),\n",
    "            nn.Conv2d(out_features,out_features,kernel_size=3,padding=1),\n",
    "            nn.BatchNorm2d(out_features)\n",
    "        )\n",
    "        self.shortcut = nn.Conv2d(in_features,out_features,kernel_size=1)\n",
    "        self.relu = nn.ReLU()\n",
    "    def forward(self,x):\n",
    "        return self.relu(self.direct(x) + self.shortcut(x))"
   ]
  },
  {
   "cell_type": "code",
   "execution_count": 15,
   "id": "8e60774a-0a11-47b3-8fa7-54533472dcc4",
   "metadata": {},
   "outputs": [],
   "source": [
    "# Creating our model\n",
    "model = nn.Sequential(\n",
    "    ResidualBlock(1,3),\n",
    "    nn.MaxPool2d(kernel_size=2),\n",
    "    ResidualBlock(3,16),\n",
    "    nn.MaxPool2d(kernel_size=2),\n",
    "    ResidualBlock(16,32),\n",
    "    nn.MaxPool2d(kernel_size=2),\n",
    "    nn.Flatten(),\n",
    "    nn.Linear(32 * 3 * 3, 10)\n",
    ")\n",
    "\n",
    "# Defining our loss function\n",
    "loss_fn = nn.CrossEntropyLoss()\n",
    "\n",
    "# Defining our optimizer\n",
    "optim = torch.optim.SGD(model.parameters(),lr=0.1)"
   ]
  },
  {
   "cell_type": "code",
   "execution_count": 16,
   "id": "b4f8843d-60c4-4b66-81c0-31be4e547107",
   "metadata": {},
   "outputs": [
    {
     "name": "stdout",
     "output_type": "stream",
     "text": [
      "90.37156366184354\n",
      "19.46238697785884\n",
      "11.655169290024787\n",
      "7.581189502845518\n",
      "4.939888269000221\n"
     ]
    }
   ],
   "source": [
    "N = len(x_train)\n",
    "epochs = 5\n",
    "batch_size = 64\n",
    "# Start training for #epochs\n",
    "for epoch in range(epochs):\n",
    "    tot_loss = 0\n",
    "    # Traing by batches\n",
    "    for i in range(N // batch_size + 1):\n",
    "        # Setting all grads (of all parameters) to zero\n",
    "        optim.zero_grad()\n",
    "        # Converting our inputs and outputs to tensor\n",
    "        x_ = torch.tensor(x_train[i*batch_size:(i+1)*batch_size]).float()\n",
    "        y_ = torch.tensor(y_train[i*batch_size:(i+1)*batch_size]).long()\n",
    "        # Forward\n",
    "        o = model(x_)\n",
    "        # Calculate loss\n",
    "        loss = loss_fn(o,y_)\n",
    "        # Backward\n",
    "        loss.backward()\n",
    "        # Accumulate loss\n",
    "        tot_loss += loss.item()\n",
    "        # Update parameters using the calculated gradients\n",
    "        optim.step()\n",
    "    print(tot_loss)"
   ]
  },
  {
   "cell_type": "code",
   "execution_count": 17,
   "id": "41af3320-6803-464b-9f7f-a71346e8d499",
   "metadata": {},
   "outputs": [],
   "source": [
    "o = model(torch.tensor(x_test[:20]).float())"
   ]
  },
  {
   "cell_type": "code",
   "execution_count": 18,
   "id": "4cd3b4ff-e49d-4717-b4b4-44ebf54a8380",
   "metadata": {},
   "outputs": [
    {
     "data": {
      "text/plain": [
       "tensor([5, 7, 9, 5, 2, 0, 6, 5, 5, 2, 7, 7, 6, 8, 9, 3, 5, 7, 6, 9])"
      ]
     },
     "execution_count": 18,
     "metadata": {},
     "output_type": "execute_result"
    }
   ],
   "source": [
    "torch.argmax(o,axis=1)"
   ]
  },
  {
   "cell_type": "code",
   "execution_count": 19,
   "id": "892229a3-89e2-4a59-823e-b2e2352865fc",
   "metadata": {},
   "outputs": [
    {
     "data": {
      "text/plain": [
       "array([5, 7, 9, 5, 2, 0, 6, 5, 5, 2, 7, 7, 6, 8, 9, 3, 5, 7, 6, 9],\n",
       "      dtype=int64)"
      ]
     },
     "execution_count": 19,
     "metadata": {},
     "output_type": "execute_result"
    }
   ],
   "source": [
    "y_test[:20]"
   ]
  }
 ],
 "metadata": {
  "kernelspec": {
   "display_name": "Python 3 (ipykernel)",
   "language": "python",
   "name": "python3"
  },
  "language_info": {
   "codemirror_mode": {
    "name": "ipython",
    "version": 3
   },
   "file_extension": ".py",
   "mimetype": "text/x-python",
   "name": "python",
   "nbconvert_exporter": "python",
   "pygments_lexer": "ipython3",
   "version": "3.10.11"
  }
 },
 "nbformat": 4,
 "nbformat_minor": 5
}
